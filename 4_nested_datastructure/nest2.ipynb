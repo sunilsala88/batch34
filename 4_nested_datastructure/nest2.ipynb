{
 "cells": [
  {
   "cell_type": "code",
   "execution_count": 1,
   "id": "6fd052e6",
   "metadata": {},
   "outputs": [
    {
     "data": {
      "text/plain": [
       "88"
      ]
     },
     "execution_count": 1,
     "metadata": {},
     "output_type": "execute_result"
    }
   ],
   "source": [
    "#list of list\n",
    "l1=[ [11,22,33], [44,55,66], [77,88,99] ]\n",
    "l1[2][1]"
   ]
  },
  {
   "cell_type": "code",
   "execution_count": null,
   "id": "7a41f811",
   "metadata": {},
   "outputs": [],
   "source": [
    "#dict of list\n",
    "stock_prices={\n",
    "    'GOOG':[100,200,300,400],\n",
    "    'AMZN':[300,600,370,480],\n",
    "    'TSLA':[106,260,390,480],\n",
    "}\n",
    "stock_prices.get('AMZN')[1]"
   ]
  },
  {
   "cell_type": "code",
   "execution_count": null,
   "id": "37f20fd4",
   "metadata": {},
   "outputs": [],
   "source": [
    "#list of dict\n",
    "tsla_price=[\n",
    "    {'open':200},\n",
    "    {'high':900},\n",
    "    {'low':600},\n",
    "    {'close':900}\n",
    "]\n",
    "tsla_price[3].get('close')"
   ]
  },
  {
   "cell_type": "code",
   "execution_count": null,
   "id": "8e43b149",
   "metadata": {},
   "outputs": [],
   "source": [
    "stocks={\n",
    "    'tsla':{'price':500},\n",
    "    'goog':{'price':900},\n",
    "    'amzn':{'price':300}\n",
    "}\n",
    "stocks.get('goog').get('price')"
   ]
  }
 ],
 "metadata": {
  "kernelspec": {
   "display_name": "Python 3",
   "language": "python",
   "name": "python3"
  },
  "language_info": {
   "codemirror_mode": {
    "name": "ipython",
    "version": 3
   },
   "file_extension": ".py",
   "mimetype": "text/x-python",
   "name": "python",
   "nbconvert_exporter": "python",
   "pygments_lexer": "ipython3",
   "version": "3.12.8"
  }
 },
 "nbformat": 4,
 "nbformat_minor": 5
}
