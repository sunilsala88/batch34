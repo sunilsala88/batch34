{
 "cells": [
  {
   "cell_type": "code",
   "execution_count": 1,
   "id": "84443b73",
   "metadata": {},
   "outputs": [],
   "source": [
    "hedge_fund_portfolio = {\n",
    "    \"fund_name\": \"Alpha Investments\",\n",
    "    \"portfolio_value\": 5_00_00_000,\n",
    "    \"investments\": [\n",
    "\n",
    "        {\n",
    "            \"type\": \"Equity\",\n",
    "            \"holdings\": [\n",
    "                {\"ticker\": \"AAPL\", \"quantity\": 10000, \"average_buy_price\": 120},\n",
    "                {\"ticker\": \"TSLA\", \"quantity\": 5000, \"average_buy_price\": 600}\n",
    "            ]\n",
    "        },\n",
    "\n",
    "        {\n",
    "            \"type\": \"Fixed Income\",\n",
    "            \"holdings\": [\n",
    "                {\"bond_issue\": \"US Treasuries\", \"amount\": 10000000, \"yield\": 1.5}\n",
    "            ]\n",
    "        },\n",
    "\n",
    "        {\n",
    "            \"type\": \"Derivatives\",\n",
    "            \"holdings\": [\n",
    "                {\"instrument\": \"Options\", \"details\": {\"underlying\": \"GOOGL\", \"type\": \"Call\", \"strike_price\": 1500}}\n",
    "            ]\n",
    "        }\n",
    "\n",
    "    ],\n",
    "    \"performance_metrics\": {\n",
    "        \"year_to_date_return\": 5.2,\n",
    "        \"five_year_annualized_return\": 7.1\n",
    "    }\n",
    "}"
   ]
  },
  {
   "cell_type": "code",
   "execution_count": 9,
   "id": "36533971",
   "metadata": {},
   "outputs": [
    {
     "data": {
      "text/plain": [
       "600"
      ]
     },
     "execution_count": 9,
     "metadata": {},
     "output_type": "execute_result"
    }
   ],
   "source": [
    "hedge_fund_portfolio.get('investments')[0].get('holdings')[1].get('average_buy_price')"
   ]
  },
  {
   "cell_type": "code",
   "execution_count": 20,
   "id": "0e185825",
   "metadata": {},
   "outputs": [
    {
     "data": {
      "text/plain": [
       "1500"
      ]
     },
     "execution_count": 20,
     "metadata": {},
     "output_type": "execute_result"
    }
   ],
   "source": [
    "hedge_fund_portfolio.get('investments')[2].get('holdings')[0].get('details').get('strike_price')"
   ]
  },
  {
   "cell_type": "code",
   "execution_count": 21,
   "id": "9601c331",
   "metadata": {},
   "outputs": [],
   "source": [
    "foreign_exchange = {\n",
    "    \"base_currency\": \"USD\",\n",
    "    \"exchange_rates\": {\n",
    "        \"EUR\": {\n",
    "            \"current_rate\": 0.85,\n",
    "            \"historical_rates\": [\n",
    "                {\"date\": \"2024-01-10\", \"rate\": 0.84},\n",
    "                {\"date\": \"2024-01-09\", \"rate\": 0.85}\n",
    "            ]\n",
    "        },\n",
    "        \"JPY\": {\n",
    "            \"current_rate\": 110.00,\n",
    "            \"historical_rates\": [\n",
    "                {\"date\": \"2024-01-10\", \"rate\": 109.50},\n",
    "                {\"date\": \"2024-01-09\", \"rate\": 110.20}\n",
    "            ]\n",
    "        }\n",
    "    }\n",
    "}"
   ]
  },
  {
   "cell_type": "code",
   "execution_count": 26,
   "id": "770eb7cd",
   "metadata": {},
   "outputs": [
    {
     "data": {
      "text/plain": [
       "110.2"
      ]
     },
     "execution_count": 26,
     "metadata": {},
     "output_type": "execute_result"
    }
   ],
   "source": [
    "foreign_exchange.get('exchange_rates').get('JPY').get('historical_rates')[1].get('rate')"
   ]
  },
  {
   "cell_type": "code",
   "execution_count": 27,
   "id": "8b093679",
   "metadata": {},
   "outputs": [],
   "source": [
    "credit_risk_profiles = {\n",
    "    \"individuals\": [\n",
    "        {\n",
    "            \"name\": \"John Doe\",\n",
    "            \"credit_score\": 750,\n",
    "            \"outstanding_loans\": {\n",
    "                \"auto_loan\": {\"amount\": 20000, \"interest_rate\": 3.5},\n",
    "                \"home_loan\": {\"amount\": 150000, \"interest_rate\": 2.8}\n",
    "            },\n",
    "            \"payment_history\": [(\"2024-01-10\", \"On Time\"), (\"2024-01-01\", \"Late\")]\n",
    "        },\n",
    "        {\n",
    "            \"name\": \"Jane Smith\",\n",
    "            \"credit_score\": 680,\n",
    "            \"outstanding_loans\": {\n",
    "                \"credit_card\": {\"amount\": 5000, \"interest_rate\": 12.0}\n",
    "            },\n",
    "            \"payment_history\": [(\"2024-01-10\", \"On Time\")]\n",
    "        }\n",
    "    ]\n",
    "}"
   ]
  },
  {
   "cell_type": "code",
   "execution_count": 36,
   "id": "954be8b1",
   "metadata": {},
   "outputs": [
    {
     "data": {
      "text/plain": [
       "170000"
      ]
     },
     "execution_count": 36,
     "metadata": {},
     "output_type": "execute_result"
    }
   ],
   "source": [
    "al=credit_risk_profiles.get('individuals')[0].get('outstanding_loans').get('auto_loan').get('amount')\n",
    "hl=credit_risk_profiles.get('individuals')[0].get('outstanding_loans').get('home_loan').get('amount')\n",
    "al+hl"
   ]
  },
  {
   "cell_type": "code",
   "execution_count": null,
   "id": "3b605109",
   "metadata": {},
   "outputs": [],
   "source": [
    "\n",
    "investment_portfolio = {\n",
    "    \"investor_name\": \"Jane Doe\",\n",
    "    \"portfolio_id\": \"JD1234\",\n",
    "    \"assets\": {\n",
    "        \"stocks\": [\n",
    "            {\n",
    "                \"ticker\": \"AAPL\",\n",
    "                \"quantity\": 50,\n",
    "                \"purchase_price\": 120.00,\n",
    "                \"current_price\": 130.00\n",
    "            },\n",
    "            {\n",
    "                \"ticker\": \"MSFT\",\n",
    "                \"quantity\": 30,\n",
    "                \"purchase_price\": 200.00,\n",
    "                \"current_price\": 210.00\n",
    "            }\n",
    "        ],\n",
    "        \"bonds\": [\n",
    "            {\n",
    "                \"identifier\": \"US123456\",\n",
    "                \"quantity\": 100,\n",
    "                \"purchase_price\": 1000.00,\n",
    "                \"current_price\": 1020.00,\n",
    "                \"maturity_date\": \"2030-01-01\"\n",
    "            }\n",
    "        ],\n",
    "        \"mutual_funds\": [\n",
    "            {\n",
    "                \"name\": \"XYZ Growth Fund\",\n",
    "                \"quantity\": 200,\n",
    "                \"purchase_price\": 15.00,\n",
    "                \"current_price\": 15.50\n",
    "            }\n",
    "        ]\n",
    "    },\n",
    "    \"cash_holdings\": 10000.00,\n",
    "    \"investment_goals\": {\"retirement\": 2035, \"education\": 2025}\n",
    "}"
   ]
  }
 ],
 "metadata": {
  "kernelspec": {
   "display_name": "Python 3",
   "language": "python",
   "name": "python3"
  },
  "language_info": {
   "codemirror_mode": {
    "name": "ipython",
    "version": 3
   },
   "file_extension": ".py",
   "mimetype": "text/x-python",
   "name": "python",
   "nbconvert_exporter": "python",
   "pygments_lexer": "ipython3",
   "version": "3.12.8"
  }
 },
 "nbformat": 4,
 "nbformat_minor": 5
}
